{
 "cells": [
  {
   "cell_type": "code",
   "execution_count": 1,
   "metadata": {
    "collapsed": false
   },
   "outputs": [
    {
     "ename": "TypeError",
     "evalue": "Non-character array cannot be interpreted as character buffer.",
     "output_type": "error",
     "traceback": [
      "\u001b[0;31m---------------------------------------------------------------------------\u001b[0m",
      "\u001b[0;31mTypeError\u001b[0m                                 Traceback (most recent call last)",
      "\u001b[0;32m<ipython-input-1-8eea726be327>\u001b[0m in \u001b[0;36m<module>\u001b[0;34m()\u001b[0m\n\u001b[1;32m     22\u001b[0m \u001b[0mwiseRaDec\u001b[0m \u001b[0;34m=\u001b[0m \u001b[0mopen\u001b[0m\u001b[0;34m(\u001b[0m\u001b[0;34m'../../WISEandGALEXmatchCatalogs/WISE/matchesOnlyRaDec.txt'\u001b[0m\u001b[0;34m,\u001b[0m \u001b[0;34m'w'\u001b[0m\u001b[0;34m)\u001b[0m\u001b[0;34m\u001b[0m\u001b[0m\n\u001b[1;32m     23\u001b[0m \u001b[0;32mfor\u001b[0m \u001b[0mi\u001b[0m \u001b[0;32min\u001b[0m \u001b[0mrange\u001b[0m\u001b[0;34m(\u001b[0m\u001b[0mlen\u001b[0m\u001b[0;34m(\u001b[0m\u001b[0mwise\u001b[0m\u001b[0;34m)\u001b[0m\u001b[0;34m)\u001b[0m\u001b[0;34m:\u001b[0m\u001b[0;34m\u001b[0m\u001b[0m\n\u001b[0;32m---> 24\u001b[0;31m     \u001b[0mwiseRaDec\u001b[0m\u001b[0;34m.\u001b[0m\u001b[0mwrite\u001b[0m\u001b[0;34m(\u001b[0m\u001b[0mwise\u001b[0m\u001b[0;34m[\u001b[0m\u001b[0;34m'col0'\u001b[0m\u001b[0;34m]\u001b[0m\u001b[0;34m[\u001b[0m\u001b[0mi\u001b[0m\u001b[0;34m]\u001b[0m\u001b[0;34m)\u001b[0m\u001b[0;34m\u001b[0m\u001b[0m\n\u001b[0m\u001b[1;32m     25\u001b[0m     \u001b[0mwiseRaDec\u001b[0m\u001b[0;34m.\u001b[0m\u001b[0mwrite\u001b[0m\u001b[0;34m(\u001b[0m\u001b[0;34m'\\t'\u001b[0m\u001b[0;34m)\u001b[0m\u001b[0;34m\u001b[0m\u001b[0m\n\u001b[1;32m     26\u001b[0m     \u001b[0mwiseRaDec\u001b[0m\u001b[0;34m.\u001b[0m\u001b[0mwrite\u001b[0m\u001b[0;34m(\u001b[0m\u001b[0mwise\u001b[0m\u001b[0;34m[\u001b[0m\u001b[0;34m'col1'\u001b[0m\u001b[0;34m]\u001b[0m\u001b[0;34m[\u001b[0m\u001b[0mi\u001b[0m\u001b[0;34m]\u001b[0m\u001b[0;34m)\u001b[0m\u001b[0;34m\u001b[0m\u001b[0m\n",
      "\u001b[0;31mTypeError\u001b[0m: Non-character array cannot be interpreted as character buffer."
     ]
    }
   ],
   "source": [
    "from astropy.io import ascii \n",
    "\n",
    "#open galex matches, create a file with only the ra and dec coords\n",
    "galex = open('../../WISEandGALEXmatchCatalogs/GALEX/galexMatchCatalog.txt', 'r')\n",
    "galexContent = galex.readlines()\n",
    "galexdata = galexContent[59:] #skip header\n",
    "galexRaDec = open('../../WISEandGALEXmatchCatalogs/GALEX/matchesRaDec.txt', 'w')\n",
    "for line in galexdata:\n",
    "    data = line.split('\\t')\n",
    "    ra = data[0]\n",
    "    dec = data[1]\n",
    "    galexRaDec.write(ra)\n",
    "    galexRaDec.write('\\t')\n",
    "    galexRaDec.write(dec)\n",
    "    galexRaDec.write('\\n')\n",
    "galexRaDec.close()\n",
    "galex.close()\n",
    "\n",
    "#open wise file with calculated ra and dec, create a file with only the ra and dec coords\n",
    "\n",
    "wise = ascii.read('../../WISEandGALEXmatchCatalogs/WISE/wiseWithRaDec.txt')\n",
    "wiseRaDec = open('../../WISEandGALEXmatchCatalogs/WISE/matchesOnlyRaDec.txt', 'w')\n",
    "for i in range(len(wise)):\n",
    "    wiseRaDec.write(wise['col0'][i])\n",
    "    wiseRaDec.write('\\t')\n",
    "    wiseRaDec.write(wise['col1'][i])\n",
    "    wiseRaDec.write('\\n')\n",
    "\n",
    "    \n",
    "wiseRaDec.close()"
   ]
  },
  {
   "cell_type": "code",
   "execution_count": 7,
   "metadata": {
    "collapsed": false
   },
   "outputs": [],
   "source": [
    "wiseCombo = open('../../WISE/reducedWISE/combined', 'r')\n",
    "combinedRA_DEC = open('../../WISE/reducedWISE/combinedRA_DEC.txt', 'w')\n",
    "\n",
    "combinedRA_DEC.write('| ra            | dec           |\\n|double         |double         |')\n",
    "for line in wiseCombo:\n",
    "    info = line.split('|')\n",
    "    combinedRA_DEC.write('   ')\n",
    "    combinedRA_DEC.write(info[1])\n",
    "    combinedRA_DEC.write('\\t   ')\n",
    "    combinedRA_DEC.write(info[2])\n",
    "    combinedRA_DEC.write('\\n')\n",
    "    \n",
    "combinedRA_DEC.close()\n",
    "wiseCombo.close()"
   ]
  },
  {
   "cell_type": "code",
   "execution_count": null,
   "metadata": {
    "collapsed": true
   },
   "outputs": [],
   "source": []
  },
  {
   "cell_type": "code",
   "execution_count": null,
   "metadata": {
    "collapsed": true
   },
   "outputs": [],
   "source": []
  }
 ],
 "metadata": {
  "kernelspec": {
   "display_name": "Python 2",
   "language": "python",
   "name": "python2"
  },
  "language_info": {
   "codemirror_mode": {
    "name": "ipython",
    "version": 2
   },
   "file_extension": ".py",
   "mimetype": "text/x-python",
   "name": "python",
   "nbconvert_exporter": "python",
   "pygments_lexer": "ipython2",
   "version": "2.7.6"
  }
 },
 "nbformat": 4,
 "nbformat_minor": 0
}
