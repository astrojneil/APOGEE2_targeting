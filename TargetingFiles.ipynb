{
 "cells": [
  {
   "cell_type": "code",
   "execution_count": 1,
   "metadata": {
    "collapsed": true
   },
   "outputs": [],
   "source": [
    "#imports\n",
    "import numpy as np\n",
    "import astropy \n",
    "from astropy.io import ascii\n",
    "from astropy.table import Table, Column, join, vstack\n",
    "import matplotlib.pyplot as plt\n",
    "import matplotlib\n",
    "from astropy import units as u\n",
    "from astropy.coordinates import SkyCoord\n",
    "%matplotlib inline"
   ]
  },
  {
   "cell_type": "code",
   "execution_count": 2,
   "metadata": {
    "collapsed": true
   },
   "outputs": [],
   "source": [
    "#read in file\n",
    "Koenig = ascii.read('../../KoenigSelectedCatalogs/Orion/SelectionV2/CottleIR_Excess_Selection_v2.txt')"
   ]
  },
  {
   "cell_type": "code",
   "execution_count": 3,
   "metadata": {
    "collapsed": false
   },
   "outputs": [
    {
     "name": "stdout",
     "output_type": "stream",
     "text": [
      "2699\n",
      "2096\n"
     ]
    }
   ],
   "source": [
    "#impose a 7 < H < 13.5 cut on the catalog\n",
    "#The lists returned are for the original array as the indices\n",
    "#are passed directly to the new lists. Call: Megeath[MegeathMag]\n",
    "KoenigMag = []\n",
    "for i in range(len(Koenig)):\n",
    "    if Koenig['h_m_2mass'][i] > 7.0 and Koenig['h_m_2mass'][i] < 13.5:\n",
    "        KoenigMag.append(i)\n",
    "print len(Koenig)\n",
    "print len(KoenigMag)"
   ]
  },
  {
   "cell_type": "code",
   "execution_count": 10,
   "metadata": {
    "collapsed": false
   },
   "outputs": [],
   "source": [
    "raDecList = open('../../KoenigSelectedCatalogs/Orion/SelectionV2/raDecList3.txt', 'w')\n",
    "count = 0\n",
    "raDecList.write('|   ra     |    dec      |\\n|   double |   double    |\\n')\n",
    "for i in KoenigMag:\n",
    "    if count > 2000 and count < 3000:\n",
    "        row = ' '+str(Koenig['ra'][i])+'    '+str(Koenig['dec'][i])+'\\n'\n",
    "        raDecList.write(row)\n",
    "        \n",
    "    count = count + 1\n",
    "    \n",
    "raDecList.close()"
   ]
  },
  {
   "cell_type": "code",
   "execution_count": null,
   "metadata": {
    "collapsed": true
   },
   "outputs": [],
   "source": []
  },
  {
   "cell_type": "code",
   "execution_count": null,
   "metadata": {
    "collapsed": true
   },
   "outputs": [],
   "source": []
  }
 ],
 "metadata": {
  "kernelspec": {
   "display_name": "Python 2",
   "language": "python",
   "name": "python2"
  },
  "language_info": {
   "codemirror_mode": {
    "name": "ipython",
    "version": 2
   },
   "file_extension": ".py",
   "mimetype": "text/x-python",
   "name": "python",
   "nbconvert_exporter": "python",
   "pygments_lexer": "ipython2",
   "version": "2.7.6"
  }
 },
 "nbformat": 4,
 "nbformat_minor": 0
}
