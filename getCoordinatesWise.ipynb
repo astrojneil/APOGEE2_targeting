{
 "cells": [
  {
   "cell_type": "code",
   "execution_count": 4,
   "metadata": {
    "collapsed": false
   },
   "outputs": [
    {
     "data": {
      "text/plain": [
       "['2MASS',\n",
       " 'WISE',\n",
       " 'ONames',\n",
       " 'SpType',\n",
       " 'Aj',\n",
       " 'f_Aj',\n",
       " '3.6mag',\n",
       " 'e_3.6mag',\n",
       " 'f_3.6mag',\n",
       " '4.5mag',\n",
       " 'e_4.5mag',\n",
       " 'f_4.5mag',\n",
       " '5.8mag',\n",
       " 'e_5.8mag',\n",
       " 'f_5.8mag',\n",
       " '8.0mag',\n",
       " 'e_8.0mag',\n",
       " 'f_8.0mag',\n",
       " '24mag',\n",
       " 'e_24mag',\n",
       " 'f_24mag',\n",
       " 'W1mag',\n",
       " 'e_W1mag',\n",
       " 'f_W1mag',\n",
       " 'W2mag',\n",
       " 'e_W2mag',\n",
       " 'f_W2mag',\n",
       " 'W3mag',\n",
       " 'e_W3mag',\n",
       " 'f_W3mag',\n",
       " 'W4mag',\n",
       " 'e_W4mag',\n",
       " 'f_W4mag',\n",
       " 'Exc4.5',\n",
       " 'Exc8.0',\n",
       " 'Exc24',\n",
       " 'ExcW2',\n",
       " 'ExcW3',\n",
       " 'ExcW4',\n",
       " 'DType']"
      ]
     },
     "execution_count": 4,
     "metadata": {},
     "output_type": "execute_result"
    }
   ],
   "source": [
    "#open wise matches, convert 2MASS designation to ra and dec in degrees, create new file of all orginal matches data with ra\n",
    "#and dec appended to the end of each line\n",
    "import numpy as np\n",
    "from astropy.io import ascii\n",
    "from astropy.table import Table, Column\n",
    "import StringIO\n",
    "\n",
    "def findRADecimal(ra):\n",
    "    h = ra//1000000\n",
    "    m = ra%1000000//10000\n",
    "    s = ra%10000/100.0\n",
    "    \n",
    "    deg = 15*(h + (m + s/60)/60)\n",
    "    \n",
    "    return deg\n",
    "\n",
    "def findDECDecimal(dec):\n",
    "    h = dec//100000\n",
    "    m = dec%100000//1000\n",
    "    s = dec%1000/10.0\n",
    "    \n",
    "    deg = (h + (m + s/60)/60)\n",
    "    \n",
    "    return deg\n",
    "\n",
    "wise = ascii.read('../../WISEandGALEXmatchCatalogs/WISE/wiseMatchesCatalog.txt')\n",
    "raList = []\n",
    "decList = []\n",
    "for element in wise['2MASS']:\n",
    "    if element != '':\n",
    "        name = element.split()\n",
    "        coords = name[1]\n",
    "        if(coords.find('+')>0):\n",
    "            ra = float(coords[1:coords.find('+')])\n",
    "            dec = float(coords[coords.find('+'):])\n",
    "            dec_sign = 1\n",
    "        if(coords.find('-')>0):\n",
    "            ra = float(coords[1:coords.find('-')])\n",
    "            dec = float(coords[coords.find('-'):])\n",
    "            dec_sign = -1\n",
    "        ra_dec = findRADecimal(ra)\n",
    "        dec_dec = dec_sign*findDECDecimal(dec)\n",
    "        raList.append(ra_dec)\n",
    "        decList.append(dec_dec)\n",
    "    else:\n",
    "        raList.append('')\n",
    "        decList.append('')\n",
    "        \n",
    "        \n",
    "newTable = Table([raList, decList, wise['2MASS'], wise['WISE'], wise['SpType'], wise['Aj'], wise['f_Aj'], wise['3.6mag'], wise['e_3.6mag'], \n",
    "                 wise['f_3.6mag'], wise['4.5mag'], wise['e_4.5mag'], wise['f_4.5mag'], wise['5.8mag'], wise['e_5.8mag'], \n",
    "                 wise['f_5.8mag'], wise['8.0mag'], wise['e_8.0mag'], wise['f_8.0mag'], wise['24mag'], wise['e_24mag'],\n",
    "                 wise['f_24mag'], wise['W1mag'], wise['e_W1mag'], wise['f_W1mag'], wise['W2mag'], wise['e_W2mag'], wise['f_W2mag'],\n",
    "                 wise['W3mag'], wise['e_W3mag'], wise['f_W3mag'], wise['W4mag'], wise['e_W4mag'], wise['f_W4mag'], wise['Exc4.5'], \n",
    "                 wise['Exc8.0'], wise['Exc24'], wise['ExcW2'], wise['ExcW3'], wise['ExcW4'], wise['DType']])\n",
    "\n",
    "ascii.write(newTable, '../../WISEandGALEXmatchCatalogs/WISE/wiseWithRaDec.txt', delimiter = '\\t') \n"
   ]
  },
  {
   "cell_type": "code",
   "execution_count": 11,
   "metadata": {
    "collapsed": false
   },
   "outputs": [
    {
     "name": "stdout",
     "output_type": "stream",
     "text": [
      "26.3476666667\n"
     ]
    },
    {
     "data": {
      "text/plain": [
       "0.1277222222222222"
      ]
     },
     "execution_count": 11,
     "metadata": {},
     "output_type": "execute_result"
    }
   ],
   "source": [
    "def findRADecimal(ra):\n",
    "    h = ra//1000000\n",
    "    m = ra%1000000//10000\n",
    "    s = ra%10000/100.0\n",
    "    \n",
    "    deg = 15*(h + (m + s/60)/60)\n",
    "    \n",
    "    return deg\n",
    "\n",
    "def findDECDecimal(dec):\n",
    "    h = dec//100000\n",
    "    m = dec%100000//1000\n",
    "    s = dec%1000/10.0\n",
    "    \n",
    "    deg = (h + (m + s/60)/60)\n",
    "    \n",
    "    return deg\n",
    "\n",
    "\n",
    "print(findRADecimal(05414630))\n",
    "findDECDecimal(015526)"
   ]
  },
  {
   "cell_type": "code",
   "execution_count": 16,
   "metadata": {
    "collapsed": false
   },
   "outputs": [
    {
     "name": "stdout",
     "output_type": "stream",
     "text": [
      "84.0533333333\n",
      "0.101916666667\n"
     ]
    }
   ],
   "source": [
    "h = 05.0\n",
    "m = 36.0\n",
    "s = 12.8\n",
    "deg = 15*(h + (m + s/60)/60)\n",
    "print deg\n",
    "\n",
    "h = -0.1\n",
    "m = 12.0\n",
    "s = 6.9\n",
    "deg = (h + (m + s/60)/60)\n",
    "print deg"
   ]
  },
  {
   "cell_type": "code",
   "execution_count": null,
   "metadata": {
    "collapsed": true
   },
   "outputs": [],
   "source": []
  }
 ],
 "metadata": {
  "kernelspec": {
   "display_name": "Python 2",
   "language": "python",
   "name": "python2"
  },
  "language_info": {
   "codemirror_mode": {
    "name": "ipython",
    "version": 2
   },
   "file_extension": ".py",
   "mimetype": "text/x-python",
   "name": "python",
   "nbconvert_exporter": "python",
   "pygments_lexer": "ipython2",
   "version": "2.7.6"
  }
 },
 "nbformat": 4,
 "nbformat_minor": 0
}
