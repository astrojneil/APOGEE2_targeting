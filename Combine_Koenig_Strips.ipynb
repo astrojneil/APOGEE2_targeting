{
 "cells": [
  {
   "cell_type": "code",
   "execution_count": 1,
   "metadata": {
    "collapsed": true
   },
   "outputs": [],
   "source": [
    "#imports\n",
    "import numpy as np\n",
    "import astropy \n",
    "from astropy.io import ascii\n",
    "from astropy.table import Table, Column, join, vstack\n",
    "import matplotlib.pyplot as plt\n",
    "import matplotlib\n",
    "%matplotlib inline"
   ]
  },
  {
   "cell_type": "code",
   "execution_count": 2,
   "metadata": {
    "collapsed": false
   },
   "outputs": [],
   "source": [
    "#change column names in koenig selected strips, write new file with key columns\n",
    "start = 20\n",
    "end = 31\n",
    "\n",
    "while start <= end:\n",
    "    filename = '../../KoenigSelectedCatalogs/Orion/SelectionV2/part'+str(start)+'.txt'\n",
    "    data = ascii.read(filename)\n",
    "    data.rename_column('col2', 'ra')\n",
    "    data.rename_column('col3', 'dec')\n",
    "    data.rename_column('col290', 'h_m_2mass')\n",
    "    data.rename_column('col292', 'k_m_2mass')\n",
    "    data.rename_column('col288', 'j_m_2mass')\n",
    "    data.rename_column('col289', 'j_m_2mass_err')\n",
    "    data.rename_column('col291', 'h_m_2mass_err')\n",
    "    data.rename_column('col293', 'k_m_2mass_err')\n",
    "    \n",
    "    data.rename_column('col17', 'w1_m')\n",
    "    data.rename_column('col21', 'w2_m')\n",
    "    data.rename_column('col25', 'w3_m')\n",
    "    data.rename_column('col29', 'w4_m')\n",
    "    \n",
    "    data.rename_column('col18', 'w1_sig')\n",
    "    data.rename_column('col22', 'w2_sig')\n",
    "    data.rename_column('col26', 'w3_sig')\n",
    "    data.rename_column('col30', 'w4_sig')\n",
    "    \n",
    "    \n",
    "    newFilename = '../../KoenigSelectedCatalogs/Orion/SelectionV2/part'+str(start)+'_wise.txt'\n",
    "    ascii.write(data, newFilename, \n",
    "                include_names = ('ra', 'dec','w1_m','w1_sig', 'w2_m','w2_sig','w3_m','w3_sig','w4_m','w4_sig','j_m_2mass','j_m_2mass_err','h_m_2mass','h_m_2mass_err','k_m_2mass', 'k_m_2mass_err', 'Class', 'GeneralSelection'))\n",
    "    start = start+1"
   ]
  },
  {
   "cell_type": "code",
   "execution_count": 7,
   "metadata": {
    "collapsed": false
   },
   "outputs": [],
   "source": [
    "#*****ONLY FOR TAURUS*****\n",
    "#add catalog flag to esplin catalog, write new file with key columns\n",
    "data = ascii.read('../../WISEandGALEXmatchCatalogs/WISEcatalogWith2MASS.txt')\n",
    "colCat = Column(name = 'Catalog', dtype = 'a5', length = len(data))\n",
    "data.add_column(colCat)\n",
    "for i in range(len(data)):\n",
    "    data['Catalog'][i] = 'E'\n",
    "data.rename_column('j_msig_2mass', 'j_m_2mass_err')\n",
    "data.rename_column('h_msig_2mass', 'h_m_2mass_err')\n",
    "data.rename_column('k_msig_2mass', 'k_m_2mass_err')\n",
    "ascii.write(data, '../../KoenigSelectedCatalogs/Taurus/EsplinFewColumns.txt', \n",
    "            include_names = ('ra', 'dec', 'j_m_2mass','j_m_2mass_err','h_m_2mass','h_m_2mass_err','k_m_2mass', 'k_m_2mass_err', 'Catalog'))\n"
   ]
  },
  {
   "cell_type": "code",
   "execution_count": 3,
   "metadata": {
    "collapsed": false
   },
   "outputs": [],
   "source": [
    "#read in all necessary files (as created above) to combine\n",
    "part20 = ascii.read('../../KoenigSelectedCatalogs/Orion/SelectionV2/part20_wise.txt')\n",
    "part21 = ascii.read('../../KoenigSelectedCatalogs/Orion/SelectionV2/part21_wise.txt')\n",
    "part22 = ascii.read('../../KoenigSelectedCatalogs/Orion/SelectionV2/part22_wise.txt')\n",
    "part23 = ascii.read('../../KoenigSelectedCatalogs/Orion/SelectionV2/part23_wise.txt')\n",
    "part24 = ascii.read('../../KoenigSelectedCatalogs/Orion/SelectionV2/part24_wise.txt')\n",
    "part25 = ascii.read('../../KoenigSelectedCatalogs/Orion/SelectionV2/part25_wise.txt')\n",
    "part26 = ascii.read('../../KoenigSelectedCatalogs/Orion/SelectionV2/part26_wise.txt')\n",
    "part27 = ascii.read('../../KoenigSelectedCatalogs/Orion/SelectionV2/part27_wise.txt')\n",
    "part28 = ascii.read('../../KoenigSelectedCatalogs/Orion/SelectionV2/part28_wise.txt')\n",
    "part29 = ascii.read('../../KoenigSelectedCatalogs/Orion/SelectionV2/part29_wise.txt')\n",
    "part30 = ascii.read('../../KoenigSelectedCatalogs/Orion/SelectionV2/part30_wise.txt')\n",
    "part31 = ascii.read('../../KoenigSelectedCatalogs/Orion/SelectionV2/part31_wise.txt')\n",
    "\n",
    "\n",
    "\n",
    "#combine all the koenig files\n",
    "koenig1 = join(part20, part21, join_type='outer')\n",
    "koenig2 = join(koenig1, part22, join_type='outer')\n",
    "koenig3 = join(koenig2, part23, join_type='outer')\n",
    "koenig4 = join(koenig3, part24, join_type='outer')\n",
    "koenig5 = join(koenig4, part25, join_type='outer')\n",
    "koenig6 = join(koenig5, part26, join_type='outer')\n",
    "koenig7 = join(koenig6, part27, join_type='outer')\n",
    "koenig8 = join(koenig7, part28, join_type='outer')\n",
    "koenig9 = join(koenig8, part29, join_type='outer')\n",
    "koenig10 = join(koenig9, part30, join_type='outer')\n",
    "\n",
    "finalTable = join(koenig10, part31, join_type='outer')\n"
   ]
  },
  {
   "cell_type": "code",
   "execution_count": 4,
   "metadata": {
    "collapsed": false
   },
   "outputs": [],
   "source": [
    "#write the final combined table to a file -- This is your final Koenig selected catalog!\n",
    "ascii.write(finalTable, \n",
    "            '../../KoenigSelectedCatalogs/Orion/SelectionV2/CottleIR_Excess_Selection_v2.txt', \n",
    "            fill_values=[(ascii.masked, 'null')]) #fill_values inserts dummy variables \n",
    "\n"
   ]
  },
  {
   "cell_type": "code",
   "execution_count": 5,
   "metadata": {
    "collapsed": false
   },
   "outputs": [],
   "source": [
    "#write file containing only sources that meet the APOGEE limits 7 < H < 13\n",
    "combinedTable = ascii.read('../../KoenigSelectedCatalogs/Orion/SelectionV2/CottleIR_Excess_Selection_v2.txt')\n",
    "newTable = Table()\n",
    "for name in combinedTable.colnames:\n",
    "    col = Column(name = name, dtype = combinedTable[name].dtype)\n",
    "    newTable.add_column(col)\n",
    "    \n",
    "for i in range(len(combinedTable)):\n",
    "    if combinedTable['h_m_2mass'][i] > 7.0 and combinedTable['h_m_2mass'][i] < 13.0:\n",
    "        newTable.add_row(combinedTable[i])"
   ]
  },
  {
   "cell_type": "code",
   "execution_count": 6,
   "metadata": {
    "collapsed": false
   },
   "outputs": [],
   "source": [
    "ascii.write(newTable, '../../KoenigSelectedCatalogs/Orion/SelectionV2/CottleIR_Excess_Selection_v2_APOGEELimits.txt')"
   ]
  },
  {
   "cell_type": "code",
   "execution_count": null,
   "metadata": {
    "collapsed": true
   },
   "outputs": [],
   "source": []
  }
 ],
 "metadata": {
  "kernelspec": {
   "display_name": "Python 2",
   "language": "python",
   "name": "python2"
  },
  "language_info": {
   "codemirror_mode": {
    "name": "ipython",
    "version": 2
   },
   "file_extension": ".py",
   "mimetype": "text/x-python",
   "name": "python",
   "nbconvert_exporter": "python",
   "pygments_lexer": "ipython2",
   "version": "2.7.6"
  }
 },
 "nbformat": 4,
 "nbformat_minor": 0
}
