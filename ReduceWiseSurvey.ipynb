{
 "cells": [
  {
   "cell_type": "code",
   "execution_count": 1,
   "metadata": {
    "collapsed": true
   },
   "outputs": [],
   "source": [
    "#imports ----> but you don't need any for this script!\n",
    "#import numpy as np\n",
    "#import astropy \n",
    "#from astropy.io import ascii\n",
    "#from astropy.table import Table, Column, join, vstack\n",
    "#import matplotlib.pyplot as plt\n",
    "#import matplotlib\n",
    "#%matplotlib inline"
   ]
  },
  {
   "cell_type": "code",
   "execution_count": 9,
   "metadata": {
    "collapsed": false
   },
   "outputs": [],
   "source": [
    "#open a wise catalog file, test the ra and dec values - are they in the Taurus box? \n",
    "#if yes, write them to a new file\n",
    "start = 20\n",
    "end = 31\n",
    "while(start <= end):\n",
    "    #defines the names of the file to be read and the filepath where the reduced \n",
    "    #file will be saved\n",
    "    wisefile = '../../WISE/irsadist.ipac.caltech.edu/wise-allwise/wise-allwise-cat-part'+str(start)\n",
    "    reducedfile = '../../WISE/reducedWISEOrion/part'+str(start)\n",
    "    \n",
    "    #open the files\n",
    "    test = open(wisefile, 'r')\n",
    "    newFile = open(reducedfile, 'w')\n",
    "    i = 0\n",
    "    j=0\n",
    "    #read line by line, testing the coordinates\n",
    "    for line in test:\n",
    "        infoSplit = line.split('|') #this is the delimiter, APASS uses whitespace, you should be able to use .split()\n",
    "        ra = float(infoSplit[1]) #ra and dec columns\n",
    "        dec = float(infoSplit[2])\n",
    "        if(dec > -13.0 and dec < 15.0 and ra >  75.0 and ra < 90.0): \n",
    "            newFile.write(line)\n",
    "            \n",
    "    #close the files \n",
    "    test.close()\n",
    "    newFile.close()\n",
    "    start = start+1"
   ]
  },
  {
   "cell_type": "code",
   "execution_count": 13,
   "metadata": {
    "collapsed": false
   },
   "outputs": [],
   "source": [
    "#Combine files that make up box into a single file.\n",
    "#open all the files separately \n",
    "file20 = open('../../WISE/reducedWISEOrion/part20', 'r') #read these from wherever they were \n",
    "file21 = open('../../WISE/reducedWISEOrion/part21', 'r') #saved above...\n",
    "file22 = open('../../WISE/reducedWISEOrion/part22', 'r')\n",
    "file23 = open('../../WISE/reducedWISEOrion/part23', 'r')\n",
    "file24 = open('../../WISE/reducedWISEOrion/part24', 'r')\n",
    "file25 = open('../../WISE/reducedWISEOrion/part25', 'r')\n",
    "file26 = open('../../WISE/reducedWISEOrion/part26', 'r')\n",
    "file27 = open('../../WISE/reducedWISEOrion/part27', 'r')\n",
    "file28 = open('../../WISE/reducedWISEOrion/part28', 'r')\n",
    "file29 = open('../../WISE/reducedWISEOrion/part29', 'r')\n",
    "file30 = open('../../WISE/reducedWISEOrion/part30', 'r')\n",
    "file31 = open('../../WISE/reducedWISEOrion/part31', 'r')\n",
    "\n",
    "combined = open('../../WISE/reducedWISEOrion/combined', 'w') #make sure to change the filepath\n",
    "\n",
    "#read in individual files line by line into the combined file\n",
    "for line in file20:\n",
    "    combined.write(line)\n",
    "\n",
    "for line in file21:\n",
    "    combined.write(line)\n",
    "\n",
    "for line in file22:\n",
    "    combined.write(line)\n",
    "    \n",
    "for line in file23:\n",
    "    combined.write(line)\n",
    "    \n",
    "for line in file24:\n",
    "    combined.write(line)\n",
    "    \n",
    "for line in file25:\n",
    "    combined.write(line)\n",
    "    \n",
    "for line in file26:\n",
    "    combined.write(line)\n",
    "    \n",
    "for line in file27:\n",
    "    combined.write(line)\n",
    "\n",
    "for line in file28:\n",
    "    combined.write(line)\n",
    "    \n",
    "for line in file29:\n",
    "    combined.write(line)\n",
    "    \n",
    "for line in file30:\n",
    "    combined.write(line)\n",
    "    \n",
    "for line in file31:\n",
    "    combined.write(line)\n",
    "       \n",
    "file20.close()\n",
    "file21.close()\n",
    "file22.close()\n",
    "file23.close()\n",
    "file24.close()\n",
    "file25.close()\n",
    "file26.close()\n",
    "file27.close()\n",
    "file28.close()\n",
    "file29.close()\n",
    "file30.close()\n",
    "file31.close()\n",
    "\n",
    "combined.close()"
   ]
  },
  {
   "cell_type": "code",
   "execution_count": 6,
   "metadata": {
    "collapsed": false
   },
   "outputs": [
    {
     "name": "stdout",
     "output_type": "stream",
     "text": [
      "['0020121059', '0.000113', '0.240', '21.434939', '0.464', '2', '6', '15.211', '0.697', '15.908', '15.450', '14.917', '14.656', '-0.000', '0.000', '-0.000', '-0.028', '-0.000', '0.091']\n"
     ]
    }
   ],
   "source": [
    "apass = open('../../APASS/apass_dr8a/zp20_8.sum', 'r')\n",
    "print apass.readline().split()"
   ]
  },
  {
   "cell_type": "code",
   "execution_count": 7,
   "metadata": {
    "collapsed": false
   },
   "outputs": [
    {
     "data": {
      "text/plain": [
       "0.6869565217391305"
      ]
     },
     "execution_count": 7,
     "metadata": {},
     "output_type": "execute_result"
    }
   ],
   "source": [
    "474.0/690.0"
   ]
  },
  {
   "cell_type": "code",
   "execution_count": null,
   "metadata": {
    "collapsed": true
   },
   "outputs": [],
   "source": []
  }
 ],
 "metadata": {
  "kernelspec": {
   "display_name": "Python 2",
   "language": "python",
   "name": "python2"
  },
  "language_info": {
   "codemirror_mode": {
    "name": "ipython",
    "version": 2
   },
   "file_extension": ".py",
   "mimetype": "text/x-python",
   "name": "python",
   "nbconvert_exporter": "python",
   "pygments_lexer": "ipython2",
   "version": "2.7.6"
  }
 },
 "nbformat": 4,
 "nbformat_minor": 0
}
