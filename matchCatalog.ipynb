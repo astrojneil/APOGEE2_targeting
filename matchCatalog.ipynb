{
 "cells": [
  {
   "cell_type": "code",
   "execution_count": 156,
   "metadata": {
    "collapsed": false
   },
   "outputs": [],
   "source": [
    "#imports\n",
    "import numpy as np\n",
    "import astropy \n",
    "from astropy.io import ascii\n",
    "import matplotlib.pyplot as plt\n",
    "import matplotlib\n",
    "from astropy import units as u\n",
    "from astropy.coordinates import SkyCoord\n",
    "%matplotlib inline"
   ]
  },
  {
   "cell_type": "code",
   "execution_count": 160,
   "metadata": {
    "collapsed": true
   },
   "outputs": [],
   "source": [
    "#matches one catalog to another, finding the nearest neighbors. \n",
    "#runs through the nearest neighbors finding the neighbors within the given radius\n",
    "#returns a list of indices from the second catalog of the objects that are within the radius\n",
    "#of objects within the first catalog, and a list of indices of the distances between 'matches'\n",
    "#in arcseconds.\n",
    "#Parameters: \n",
    "#coords1: SkyCoord array for smaller catalog\n",
    "#coords2: SkyCoord array for larger catalog\n",
    "#radius: float for the matching radius **in arcseconds**\n",
    "#selfmatch: boolean indicating if the matching between a catalog and itself\n",
    "\n",
    "def matchCatalog(coords1, coords2, radius, selfmatch):\n",
    "    if selfmatch:\n",
    "        #if self matching the returned index array will have the pairs of matches\n",
    "        #the dist array with have the same distance for each index in the pair\n",
    "        indx, dist2d, dist3d = coords1.match_to_catalog_sky(coords2, 2)\n",
    "        if indx.size==1:\n",
    "            if dist2d <=radius*u.arcsecond:\n",
    "                matches = indx\n",
    "                dist = dist2d.arcsecond\n",
    "        else:\n",
    "            matches = []\n",
    "            dist = []\n",
    "            indexMatches = (dist2d <= radius*u.arcsecond).nonzero()\n",
    "            matches = indx[indexMatches]\n",
    "            dist = dist2d[indexMatches].arcsecond\n",
    "    \n",
    "    \n",
    "    else:\n",
    "        indx, dist2d, dist3d = coords1.match_to_catalog_sky(coords2, 1)\n",
    "        if indx.size==1:\n",
    "            if dist2d <=radius*u.arcsecond:\n",
    "                matches = indx\n",
    "                dist = dist2d.arcsecond\n",
    "        else:\n",
    "            matches = []\n",
    "            dist = []\n",
    "            indexMatches = (dist2d <= radius*u.arcsecond).nonzero()\n",
    "            matches = indx[indexMatches]\n",
    "            dist = dist2d[indexMatches].arcsecond\n",
    "            \n",
    "    return matches, dist"
   ]
  },
  {
   "cell_type": "code",
   "execution_count": 161,
   "metadata": {
    "collapsed": false
   },
   "outputs": [
    {
     "name": "stdout",
     "output_type": "stream",
     "text": [
      "2\n",
      "1\n"
     ]
    }
   ],
   "source": [
    "onecoord = SkyCoord(taurus['ra'][2], taurus['dec'][2], unit = 'deg')\n",
    "matches, dist = matchCatalog(onecoord, tauruscoords, 1.0, False)\n",
    "print matches\n",
    "print len(dist)"
   ]
  },
  {
   "cell_type": "code",
   "execution_count": 162,
   "metadata": {
    "collapsed": false
   },
   "outputs": [
    {
     "name": "stdout",
     "output_type": "stream",
     "text": [
      "[ 202  201  247  245  792  791 1286 1285 1378 1377 1499 1498 1603 1598 1968\n",
      " 1965 2339 2337 2419 2418 2767 2766 2957 2956 3086 3085]\n",
      "1.3063131989\n"
     ]
    }
   ],
   "source": [
    "esplin = ascii.read('../../KoenigSelectedCatalogs/Taurus/EsplinFewColumns.txt')\n",
    "taurus = ascii.read('../../KoenigSelectedCatalogs/Taurus/finalTaurusSelection_withWISE_APOGEELimits.txt')\n",
    "megeath = ascii.read('../../OrionCatalogs/orionCatalogMegeath.tsv')\n",
    "\n",
    "esplincoords = SkyCoord(esplin['ra'], esplin['dec'], unit = 'deg')\n",
    "tauruscoords = SkyCoord(taurus['ra'], taurus['dec'], unit = 'deg')\n",
    "megeathcoords = SkyCoord(megeath['_RAJ2000'][2:], megeath['_DEJ2000'][2:], unit = 'deg')\n",
    "\n",
    "matches, dist = matchCatalog(megeathcoords, megeathcoords, 3.0, True)\n",
    "print matches\n",
    "print min(dist)\n",
    "\n"
   ]
  },
  {
   "cell_type": "code",
   "execution_count": 150,
   "metadata": {
    "collapsed": false
   },
   "outputs": [
    {
     "data": {
      "image/png": "[encoded data removed]",
      "text/plain": [
       "<matplotlib.figure.Figure at 0x1099c53d0>"
      ]
     },
     "metadata": {},
     "output_type": "display_data"
    }
   ],
   "source": [
    "plt.scatter(megeath['_RAJ2000'][matches], megeath['_DEJ2000'][matches])\n",
    "fig = plt.gcf()\n",
    "fig.set_size_inches(12.5, 12)"
   ]
  },
  {
   "cell_type": "code",
   "execution_count": 153,
   "metadata": {
    "collapsed": false
   },
   "outputs": [
    {
     "data": {
      "image/png": "[encoded data removed]",
      "text/plain": [
       "<matplotlib.figure.Figure at 0x10a399350>"
      ]
     },
     "metadata": {},
     "output_type": "display_data"
    }
   ],
   "source": [
    "distNew = []\n",
    "for i in range(len(dist)):\n",
    "    if i%2==0:\n",
    "        distNew.append(dist[i])\n",
    "        \n",
    "plt.hist(distNew, alpha = 0.5, color = 'green')\n",
    "fig = plt.gcf()\n",
    "fig.set_size_inches(12.5, 12)"
   ]
  },
  {
   "cell_type": "code",
   "execution_count": null,
   "metadata": {
    "collapsed": true
   },
   "outputs": [],
   "source": []
  }
 ],
 "metadata": {
  "kernelspec": {
   "display_name": "Python 2",
   "language": "python",
   "name": "python2"
  },
  "language_info": {
   "codemirror_mode": {
    "name": "ipython",
    "version": 2
   },
   "file_extension": ".py",
   "mimetype": "text/x-python",
   "name": "python",
   "nbconvert_exporter": "python",
   "pygments_lexer": "ipython2",
   "version": "2.7.6"
  }
 },
 "nbformat": 4,
 "nbformat_minor": 0
}
