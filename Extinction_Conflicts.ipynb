{
 "cells": [
  {
   "cell_type": "code",
   "execution_count": 108,
   "metadata": {
    "collapsed": true
   },
   "outputs": [],
   "source": [
    "#imports\n",
    "import numpy as np\n",
    "import astropy \n",
    "from astropy import table\n",
    "from astropy.io import ascii\n",
    "from astropy.table import Table, Column, join, vstack\n",
    "import matplotlib.pyplot as plt\n",
    "import matplotlib\n",
    "from astropy import units as u\n",
    "from astropy.coordinates import SkyCoord\n",
    "%matplotlib inline"
   ]
  },
  {
   "cell_type": "code",
   "execution_count": 208,
   "metadata": {
    "collapsed": false
   },
   "outputs": [],
   "source": [
    "#read in files\n",
    "Fang = ascii.read('../../OrionCatalogs/orionCatalogFang.tsv')\n",
    "Megeath = ascii.read('../../OrionCatalogs/orionCatalogMegeath.tsv')\n",
    "Esplin = ascii.read('../../WISEandGALEXmatchCatalogs/WISEcatalogWith2MASS.txt')\n",
    "Koenig = ascii.read('../../KoenigSelectedCatalogs/Taurus/finalTaurusSelection_withWISE.txt')\n",
    "Extinct1 = ascii.read('../../ExtinctionTargets/YSO_Orion_B_F1_AncillaryTargets_ARS.txt')\n",
    "#col 3: RA  col 4: Dec"
   ]
  },
  {
   "cell_type": "code",
   "execution_count": 209,
   "metadata": {
    "collapsed": false
   },
   "outputs": [],
   "source": [
    "#read all files into a table, adding a region flag\n",
    "#create new Table\n",
    "Extinct=Table()  \n",
    "for name in Extinct1.colnames:\n",
    "    col = Column(name = name, dtype = Extinct1[name].dtype)\n",
    "    Extinct.add_column(col)\n",
    "\n",
    "#add region column\n",
    "col = Column(name = 'region', dtype = 'S12', length = len(Extinct))\n",
    "Extinct.add_column(col)\n",
    "    \n",
    "#define which files to read\n",
    "filenames = ['../../ExtinctionTargets/YSO_TAU_L1495_AncillaryTargets_ARS.txt', \n",
    "            '../../ExtinctionTargets/YSO_TAU_L1521_AncillaryTargets_ARS.txt', \n",
    "            '../../ExtinctionTargets/YSO_TAU_L1527_AncillaryTargets_ARS.txt', \n",
    "            '../../ExtinctionTargets/YSO_TAU_L1536_AncillaryTargets_ARS.txt'] \n",
    "#define flag for each file\n",
    "regions = ['L1495' ,'L1521', 'L1527', 'L1536']\n",
    "\n",
    "#run through the list of files, adding each row in the file to a new table\n",
    "for i in range(len(filenames)):\n",
    "    test = open(filenames[i], 'r')\n",
    "    for line in test:\n",
    "        lineSplit = line.split()\n",
    "        if len(lineSplit) > 3 and len(lineSplit) < 16:\n",
    "            lineSplit.insert(13,regions[i])\n",
    "            Extinct.add_row(lineSplit[:14])\n",
    "    "
   ]
  },
  {
   "cell_type": "code",
   "execution_count": 210,
   "metadata": {
    "collapsed": false
   },
   "outputs": [],
   "source": [
    "#find known YSOs with H < 12.5 in each catalog\n",
    "FangHmag = []\n",
    "for i in range(len(Fang[2:])):\n",
    "    if float(Fang['Hmag'][2:][i]) < 12.5:\n",
    "        FangHmag.append(i)\n",
    "        \n",
    "MegeathHmag = []\n",
    "for i in range(len(Megeath[2:])):\n",
    "    if float(Megeath['Hmag'][2:][i]) < 12.5:\n",
    "        MegeathHmag.append(i)\n",
    "        \n",
    "KoenigHmag = []\n",
    "for i in range(len(Koenig)):\n",
    "    if float(Koenig['h_m_2mass'][i]) < 12.5:\n",
    "        KoenigHmag.append(i)\n",
    "\n",
    "EsplinHmag = []\n",
    "for i in range(len(Esplin)):\n",
    "    if float(Esplin['h_m_2mass'][i]) < 12.5:\n",
    "        EsplinHmag.append(i)\n",
    "\n",
    "\n",
    "#find the separations between H < 12.5 YSOs and extinction targets\n",
    "#restrict to within 70 arcseconds\n",
    "from matchCatalog import matchCatalog\n",
    "FangCoords = SkyCoord(Fang['_RAJ2000'][2:][FangHmag], Fang['_DEJ2000'][2:][FangHmag], unit = 'deg')\n",
    "MegeathCoords = SkyCoord(Megeath['_RAJ2000'][2:][MegeathHmag], Megeath['_DEJ2000'][2:][MegeathHmag], unit = 'deg')\n",
    "KoenigCoords = SkyCoord(Koenig['ra'][KoenigHmag], Koenig['dec'][KoenigHmag], unit = 'deg')\n",
    "\n",
    "Esplin['ra'].unit = 'deg'\n",
    "Esplin['dec'].unit = 'deg'\n",
    "EsplinCoords = SkyCoord(Esplin['ra'][EsplinHmag], Esplin['dec'][EsplinHmag], unit = 'deg')\n",
    "\n",
    "ExtinctCoords = SkyCoord(Extinct['col3'], Extinct['col4'], unit = 'deg')\n",
    "\n",
    "#compare to Fang\n",
    "#Fangmatches, fdist = matchCatalog(FangCoords, ExtinctCoords, 70.0, False)\n",
    "\n",
    "#compare to Megeath\n",
    "#Megeathmatches, mdist = matchCatalog(MegeathCoords, ExtinctCoords, 70.0, False)\n",
    "\n",
    "#compare to Koenig\n",
    "Koenigmatches, kdist = matchCatalog(KoenigCoords, ExtinctCoords, 70.0, False)\n",
    "\n",
    "#compare to Esplin\n",
    "Esplinmatches, edist = matchCatalog(EsplinCoords, ExtinctCoords, 70.0, False)"
   ]
  },
  {
   "cell_type": "code",
   "execution_count": 213,
   "metadata": {
    "collapsed": false
   },
   "outputs": [],
   "source": [
    "#write these sources to a table, combine tables and write to file.\n",
    "\n",
    "#TooClosef = Table(Extinct[Fangmatches])\n",
    "#col = Column(data = fdist, name = 'separation', dtype = 'float', length = len(TooClosef))\n",
    "#TooClosef.add_column(col)\n",
    "\n",
    "#TooClosef = table.unique(TooClosef, keys='col2')\n",
    "\n",
    "\n",
    "#TooClosem = Table(Extinct[Megeathmatches])\n",
    "#col = Column(data = mdist, name = 'separation', dtype = 'float', length = len(TooClosem))\n",
    "#TooClosem.add_column(col)\n",
    "\n",
    "#TooClosem = table.unique(TooClosem, keys='col2')\n",
    "\n",
    "TooClosek = Table(Extinct[Koenigmatches])\n",
    "col = Column(data = kdist, name = 'separation', dtype = 'float', length = len(TooClosek))\n",
    "TooClosek.add_column(col)\n",
    "\n",
    "TooClosek = table.unique(TooClosek, keys='col2')\n",
    "\n",
    "TooClosee = Table(Extinct[Esplinmatches])\n",
    "col = Column(data = edist, name = 'separation', dtype = 'float', length = len(TooClosee))\n",
    "TooClosee.add_column(col)\n",
    "\n",
    "TooClosee = table.unique(TooClosee, keys = 'col2')\n",
    "\n",
    "#TooClose = join(TooClosef, TooClosem, join_type='outer')\n",
    "#Final = join(TooClose, TooClosek, join_type='outer')\n",
    "Final = join(TooClosee, TooClosek, join_type='outer')\n",
    "\n",
    "Final.rename_column('col1', 'Priority')\n",
    "Final.rename_column('col2', 'ID')\n",
    "Final.rename_column('col3', 'RA(J2000)')\n",
    "Final.rename_column('col4', 'Dec(J2000)')\n",
    "Final.rename_column('col5', 'Epoch')\n",
    "Final.rename_column('col6', 'Hmag')\n",
    "Final.rename_column('col7', 'srcH')\n",
    "Final.rename_column('col8', 'pmRA')\n",
    "Final.rename_column('col9', 'pmDec')\n",
    "Final.rename_column('col10', 'pmCatalog')\n",
    "Final.rename_column('col11', 'type')\n",
    "\n",
    "\n",
    "ascii.write(Final, '../../ExtinctionTargets/ConflictsTaurus.txt', exclude_names = ('col12', 'col13'))"
   ]
  },
  {
   "cell_type": "code",
   "execution_count": 212,
   "metadata": {
    "collapsed": false
   },
   "outputs": [
    {
     "data": {
      "text/html": [
       "&lt;Table masked=True length=3&gt;\n",
       "<table id=\"table4525925520\">\n",
       "<thead><tr><th>Priority</th><th>ID</th><th>RA(J2000)</th><th>Dec(J2000)</th><th>Epoch</th><th>Hmag</th><th>srcH</th><th>pmRA</th><th>pmDec</th><th>pmCatalog</th><th>type</th><th>col12</th><th>col13</th><th>region</th><th>separation</th></tr></thead>\n",
       "<thead><tr><th>int64</th><th>string136</th><th>float64</th><th>float64</th><th>float64</th><th>float64</th><th>string40</th><th>string8</th><th>string8</th><th>string8</th><th>string32</th><th>string80</th><th>string48</th><th>string96</th><th>float64</th></tr></thead>\n",
       "<tr><td>1</td><td>J04391820+2544326</td><td>69.825863</td><td>25.742405</td><td>2000.0</td><td>10.17</td><td>2MASS</td><td>?</td><td>?</td><td>?</td><td>star</td><td>extinction</td><td>target</td><td>L1527</td><td>46.9239454312</td></tr>\n",
       "<tr><td>29</td><td>J04162490+2808205</td><td>64.103755</td><td>28.13904</td><td>2000.0</td><td>10.91</td><td>2MASS</td><td>?</td><td>?</td><td>?</td><td>star</td><td>extinction</td><td>target</td><td>L1495</td><td>61.9433979846</td></tr>\n",
       "<tr><td>40</td><td>J04191625+2829331</td><td>64.817709</td><td>28.492533</td><td>2000.0</td><td>10.71</td><td>2MASS</td><td>?</td><td>?</td><td>?</td><td>star</td><td>extinction</td><td>target</td><td>L1495</td><td>45.3083371193</td></tr>\n",
       "</table>"
      ],
      "text/plain": [
       "<Table masked=True length=3>\n",
       "Priority         ID        RA(J2000) ...  col13    region    separation \n",
       " int64       string136      float64  ... string48 string96    float64   \n",
       "-------- ----------------- --------- ... -------- -------- -------------\n",
       "       1 J04391820+2544326 69.825863 ...   target    L1527 46.9239454312\n",
       "      29 J04162490+2808205 64.103755 ...   target    L1495 61.9433979846\n",
       "      40 J04191625+2829331 64.817709 ...   target    L1495 45.3083371193"
      ]
     },
     "execution_count": 212,
     "metadata": {},
     "output_type": "execute_result"
    }
   ],
   "source": [
    "Final"
   ]
  },
  {
   "cell_type": "code",
   "execution_count": null,
   "metadata": {
    "collapsed": true
   },
   "outputs": [],
   "source": []
  }
 ],
 "metadata": {
  "kernelspec": {
   "display_name": "Python 2",
   "language": "python",
   "name": "python2"
  },
  "language_info": {
   "codemirror_mode": {
    "name": "ipython",
    "version": 2
   },
   "file_extension": ".py",
   "mimetype": "text/x-python",
   "name": "python",
   "nbconvert_exporter": "python",
   "pygments_lexer": "ipython2",
   "version": "2.7.6"
  }
 },
 "nbformat": 4,
 "nbformat_minor": 0
}
